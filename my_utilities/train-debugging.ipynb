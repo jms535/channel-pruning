{
 "cells": [
  {
   "cell_type": "markdown",
   "metadata": {},
   "source": [
    "### Channel pruning (modified) \n",
    "...desmenuselo papi"
   ]
  },
  {
   "cell_type": "code",
   "execution_count": 1,
   "metadata": {},
   "outputs": [
    {
     "name": "stdout",
     "output_type": "stream",
     "text": [
      "no lighting pack\n"
     ]
    }
   ],
   "source": [
    "from __future__ import print_function\n",
    "from easydict import EasyDict as edict\n",
    "from lib.cfgs import c as dcfgs\n",
    "import lib.cfgs as cfgs\n",
    "import os\n",
    "os.environ['JOBLIB_TEMP_FOLDER']=dcfgs.shm\n",
    "#import argparse\n",
    "os.environ['GLOG_minloglevel'] = '3'\n",
    "import os.path as osp\n",
    "import pickle\n",
    "import sys\n",
    "from multiprocessing import Process, Queue\n",
    "\n",
    "import matplotlib.pyplot as plt\n",
    "import numpy as np\n",
    "from IPython import embed\n",
    "\n",
    "from lib.decompose import *\n",
    "from lib.net import Net, load_layer, caffe_test\n",
    "from lib.utils import *\n",
    "from lib.worker import Worker\n",
    "import google.protobuf.text_format\n",
    "\n",
    "sys.path.insert(0, osp.dirname('__file__')+'/lib')"
   ]
  },
  {
   "cell_type": "code",
   "execution_count": 3,
   "metadata": {},
   "outputs": [],
   "source": [
    "def step0(pt, model):\n",
    "    net = Net(pt, model=model, noTF=1) #lib/net.Net instantiate the NetBuilder\n",
    "    WPQ, pt, model = net.preprocess_resnet()\n",
    "    # WPQ stores pruned values, which will be later saved to the caffemodel.\n",
    "    return {\"WPQ\": WPQ, \"pt\": pt, \"model\": model}\n",
    "\n",
    "def step1(pt, model, WPQ, check_exist=False):\n",
    "    print(pt)\n",
    "    net = Net(pt, model, noTF=1)\n",
    "    model = net.finalmodel(WPQ)\n",
    "    if 1:\n",
    "        convs = net.convs\n",
    "    else:\n",
    "        convs = net.convs[:-1]\n",
    "        redprint(\"ignoring last conv!\")\n",
    "    if dcfgs.dic.option == 1:\n",
    "        sums = net.type2names('Eltwise')[:-1]\n",
    "        newsums = []\n",
    "        for i in sums:\n",
    "            if not i.endswith('block8_sum'):\n",
    "                newsums.append(i)\n",
    "        newconvs = []\n",
    "        for i in convs:\n",
    "            if i.endswith('_proj'):\n",
    "                newconvs.insert(0,i)\n",
    "            else:\n",
    "                newconvs.append(i)\n",
    "        convs = newsums + newconvs\n",
    "    else:\n",
    "        convs += net.type2names('Eltwise')[:-1]\n",
    "    if dcfgs.dic.fitfc:\n",
    "        convs += net.type2names('InnerProduct')\n",
    "    if dcfgs.model in [cfgs.Models.xception,cfgs.Models.resnet]:\n",
    "        for i in net.bns:\n",
    "            if 'branch1' in i:\n",
    "                convs += [i]\n",
    "    net.freeze_images(check_exist=check_exist, convs=convs)\n",
    "    return {\"model\":model}\n",
    "\n",
    "def solve(pt, model):\n",
    "    net = Net(pt, model=model)\n",
    "    net.load_frozen()\n",
    "    WPQ, new_pt = net.R3()\n",
    "    return {\"WPQ\": WPQ, \"new_pt\": new_pt}  \n",
    "\n",
    "def stepend(new_pt, model, WPQ):\n",
    "    net = Net(new_pt, model=model)\n",
    "    net.WPQ = WPQ\n",
    "    net.finalmodel(save=False)\n",
    "    net.dis_memory()\n",
    "    #final = net.finalmodel(WPQ, prefix='3r')\n",
    "    new_pt, new_model = net.save(prefix='3c')\n",
    "    print('caffe test -model',new_pt, '-weights',new_model)\n",
    "    return {\"final\": None}  "
   ]
  },
  {
   "cell_type": "code",
   "execution_count": 4,
   "metadata": {
    "scrolled": false
   },
   "outputs": [
    {
     "name": "stdout",
     "output_type": "stream",
     "text": [
      "args.action =  c3\n",
      "~~~~~~~~~~~~~~~~~~~~~~~~~~~~~~~~~~~~~~~~~~~~~~~~~~~~~~~~~~\n",
      "stage0 freeze\n",
      "~~~~~~~~~~~~~~~~~~~~~~~~~~~~~~~~~~~~~~~~~~~~~~~~~~~~~~~~~~\n",
      "{'WPQ': {}, 'pt': 'temp/bn_vgg.prototxt', 'model': 'temp/bn_vgg.caffemodel'}\n"
     ]
    }
   ],
   "source": [
    "# ====== main() =======\n",
    "cfgs.set_nBatches(dcfgs.nBatches)\n",
    "dcfgs.dic.option=1\n",
    "\n",
    "# asume action is c3\n",
    "print(\"args.action = \" , cfgs.Action.c3)\n",
    "\n",
    "# ---- c3() ----\n",
    "pt=cfgs.vgg.model\n",
    "model=cfgs.vgg.weights\n",
    "dcfgs.splitconvrelu=True\n",
    "cfgs.accname='accuracy@5' #name of layer in the prototxt?\n",
    "  \n",
    "worker = Worker()\n",
    "#print(\"before 'freezing'\")\n",
    "   \n",
    "outputs = worker.do(step0, pt=pt, model=model)\n",
    "printstage(\"freeze\")\n",
    "pt = outputs['pt']\n",
    "print(outputs)"
   ]
  },
  {
   "cell_type": "code",
   "execution_count": 5,
   "metadata": {
    "scrolled": true
   },
   "outputs": [
    {
     "name": "stdout",
     "output_type": "stream",
     "text": [
      "temp/bn_vgg.prototxt\n",
      "nPicsPerBatch:  1\n",
      "nPointsPerLayer 10\n",
      "run for 500 batches nFeatsPerBatch 10\n",
      "Extracting conv1_1 (5000, 64)\n",
      "Extracting conv1_2 (5000, 64)\n",
      "Extracting conv2_1 (5000, 128)\n",
      "Extracting conv2_2 (5000, 128)\n",
      "Extracting conv3_1 (5000, 256)\n",
      "Extracting conv3_2 (5000, 256)\n",
      "Extracting conv3_3 (5000, 256)\n",
      "Extracting conv4_1 (5000, 512)\n",
      "Extracting conv4_2 (5000, 512)\n",
      "Extracting conv4_3 (5000, 512)\n",
      "Extracting conv5_1 (5000, 512)\n",
      "Extracting conv5_2 (5000, 512)\n",
      "Extracting conv5_3 (5000, 512)\n",
      "@ frozen_points is:  False\n",
      "Acc  86.800\n",
      "wrote memory data layer to temp/mem_bn_vgg.prototxt\n",
      "freezing imgs to temp/frozen500.pickle\n",
      "{'model': 'temp/VHmario_bn_vgg.caffemodel'}\n",
      "~~~~~~~~~~~~~~~~~~~~~~~~~~~~~~~~~~~~~~~~~~~~~~~~~~~~~~~~~~\n",
      "stage1 speed 3.0\n",
      "~~~~~~~~~~~~~~~~~~~~~~~~~~~~~~~~~~~~~~~~~~~~~~~~~~~~~~~~~~\n",
      "{'pt': 'temp/mem_bn_vgg.prototxt', 'model': 'temp/VHmario_bn_vgg.caffemodel'}\n"
     ]
    }
   ],
   "source": [
    "outputs = worker.do(step1,**outputs)\n",
    "print(outputs)\n",
    "printstage(\"speed \", dcfgs.dic.keep)\n",
    "\n",
    "outputs['pt'] = mem_pt(pt)\n",
    "print(outputs)"
   ]
  },
  {
   "cell_type": "code",
   "execution_count": 6,
   "metadata": {},
   "outputs": [],
   "source": [
    "my_net = Net(pt, model=model)"
   ]
  },
  {
   "cell_type": "code",
   "execution_count": 7,
   "metadata": {},
   "outputs": [
    {
     "name": "stdout",
     "output_type": "stream",
     "text": [
      "loading imgs from temp/frozen500.pickle\n",
      "loaded\n"
     ]
    }
   ],
   "source": [
    "my_net.load_frozen()"
   ]
  },
  {
   "cell_type": "code",
   "execution_count": 8,
   "metadata": {},
   "outputs": [],
   "source": [
    "# === WPQ, new_pt = net.R3() ===\n",
    "speed_ratio = dcfgs.dic.keep\n",
    "if speed_ratio not in [3.]:\n",
    "    NotImplementedError\n",
    "if dcfgs.dic.vh:\n",
    "    prefix = 'C'\n",
    "else:\n",
    "    prefix = 'noC'\n",
    "prefix += str(int(speed_ratio))+'x'\n",
    "DEBUG = True\n",
    "convs= my_net.convs\n",
    "my_net.WPQ = dict()\n",
    "my_net.selection = dict()\n",
    "my_net._mem = True\n",
    "end = 5\n",
    "alldic = ['conv%d_1' % i for i in range(1,end)] + ['conv%d_2' % i for i in range(3, end)]\n",
    "pooldic = ['conv1_2', 'conv2_2']#, 'conv3_3']\n",
    "rankdic = {'conv1_1': 17,\n",
    "           'conv1_2': 17,\n",
    "           'conv2_1': 37,\n",
    "           'conv2_2': 47,\n",
    "           'conv3_1': 83,\n",
    "           'conv3_2': 89,\n",
    "           'conv3_3': 106,\n",
    "           'conv4_1': 175,\n",
    "           'conv4_2': 192,\n",
    "           'conv4_3': 227,\n",
    "           'conv5_1': 398,\n",
    "           'conv5_2': 390,\n",
    "           'conv5_3': 379}\n",
    "\n",
    "for i in rankdic:\n",
    "    if 'conv5' in i:\n",
    "        continue\n",
    "    rankdic[i] = int(rankdic[i] * 4. / speed_ratio)\n",
    "c_ratio = 1.15"
   ]
  },
  {
   "cell_type": "code",
   "execution_count": 9,
   "metadata": {},
   "outputs": [],
   "source": [
    "def getX(name):\n",
    "    x = my_net.extract_XY(my_net.bottom_names[name][0], name)\n",
    "    return np.rollaxis(x.reshape((-1, 3, 3, x.shape[1])), 3, 1).copy()\n",
    "\n",
    "def setConv(c, d):\n",
    "    if c in self.selection:\n",
    "        my_net.param_data(c)[:,my_net.selection[c],:,:] = d\n",
    "    else:\n",
    "        my_net.set_param_data(c, d)"
   ]
  },
  {
   "cell_type": "code",
   "execution_count": 98,
   "metadata": {},
   "outputs": [
    {
     "data": {
      "text/plain": [
       "['conv1_1',\n",
       " 'conv1_2',\n",
       " 'conv2_1',\n",
       " 'conv2_2',\n",
       " 'conv3_1',\n",
       " 'conv3_2',\n",
       " 'conv3_3',\n",
       " 'conv4_1',\n",
       " 'conv4_2',\n",
       " 'conv4_3',\n",
       " 'conv5_1',\n",
       " 'conv5_2',\n",
       " 'conv5_3']"
      ]
     },
     "execution_count": 98,
     "metadata": {},
     "output_type": "execute_result"
    }
   ],
   "source": [
    "#for conv, convnext in zip(convs[1:], convs[2:]+['pool5']):\n",
    "#    print(conv, convnext)\n",
    "convs"
   ]
  },
  {
   "cell_type": "code",
   "execution_count": 12,
   "metadata": {
    "scrolled": true
   },
   "outputs": [
    {
     "name": "stdout",
     "output_type": "stream",
     "text": [
      "W_shape: (64, 64, 3, 3)\n",
      "d_c:  55\n",
      "Extracting X pool1 From Y conv2_1 stride 1\n"
     ]
    },
    {
     "ename": "RuntimeError",
     "evalue": "set_input_arrays may only be called if the first layer is a MemoryDataLayer",
     "output_type": "error",
     "traceback": [
      "\u001b[0;31m---------------------------------------------------------------------------\u001b[0m",
      "\u001b[0;31mRuntimeError\u001b[0m                              Traceback (most recent call last)",
      "\u001b[0;32m<ipython-input-12-ff4bf9ffedc3>\u001b[0m in \u001b[0;36m<module>\u001b[0;34m()\u001b[0m\n\u001b[1;32m     84\u001b[0m             \u001b[0mX_name\u001b[0m \u001b[0;34m=\u001b[0m \u001b[0mconv\u001b[0m\u001b[0;34m\u001b[0m\u001b[0m\n\u001b[1;32m     85\u001b[0m \u001b[0;34m\u001b[0m\u001b[0m\n\u001b[0;32m---> 86\u001b[0;31m         \u001b[0midxs\u001b[0m\u001b[0;34m,\u001b[0m \u001b[0mW2\u001b[0m\u001b[0;34m,\u001b[0m \u001b[0mB2\u001b[0m \u001b[0;34m=\u001b[0m \u001b[0mmy_net\u001b[0m\u001b[0;34m.\u001b[0m\u001b[0mdictionary_kernel\u001b[0m\u001b[0;34m(\u001b[0m\u001b[0mX_name\u001b[0m\u001b[0;34m,\u001b[0m \u001b[0;32mNone\u001b[0m\u001b[0;34m,\u001b[0m \u001b[0md_c\u001b[0m\u001b[0;34m,\u001b[0m \u001b[0mconvnext\u001b[0m\u001b[0;34m,\u001b[0m \u001b[0;32mNone\u001b[0m\u001b[0;34m)\u001b[0m\u001b[0;34m\u001b[0m\u001b[0m\n\u001b[0m\u001b[1;32m     87\u001b[0m         \"\"\"\n\u001b[1;32m     88\u001b[0m         \u001b[0;31m# W2\u001b[0m\u001b[0;34m\u001b[0m\u001b[0;34m\u001b[0m\u001b[0m\n",
      "\u001b[0;32m~/mario/workbench/lib/net.py\u001b[0m in \u001b[0;36mdictionary_kernel\u001b[0;34m(self, X_name, weights, d_prime, Y_name, Y)\u001b[0m\n\u001b[1;32m   1660\u001b[0m             \u001b[0mself\u001b[0m\u001b[0;34m.\u001b[0m\u001b[0mload_frozen\u001b[0m\u001b[0;34m(\u001b[0m\u001b[0mfeats_dict\u001b[0m\u001b[0;34m=\u001b[0m\u001b[0mfeats_dict\u001b[0m\u001b[0;34m,\u001b[0m \u001b[0mpoints_dict\u001b[0m\u001b[0;34m=\u001b[0m\u001b[0mpoints_dict\u001b[0m \u001b[0;34m)\u001b[0m\u001b[0;34m\u001b[0m\u001b[0m\n\u001b[1;32m   1661\u001b[0m \u001b[0;34m\u001b[0m\u001b[0m\n\u001b[0;32m-> 1662\u001b[0;31m         \u001b[0mX\u001b[0m \u001b[0;34m=\u001b[0m \u001b[0mself\u001b[0m\u001b[0;34m.\u001b[0m\u001b[0mextract_XY\u001b[0m\u001b[0;34m(\u001b[0m\u001b[0mX_name\u001b[0m\u001b[0;34m,\u001b[0m \u001b[0mY_name\u001b[0m\u001b[0;34m)\u001b[0m\u001b[0;34m\u001b[0m\u001b[0m\n\u001b[0m\u001b[1;32m   1663\u001b[0m         \u001b[0mN\u001b[0m \u001b[0;34m=\u001b[0m \u001b[0mself\u001b[0m\u001b[0;34m.\u001b[0m\u001b[0mblobs_num\u001b[0m\u001b[0;34m(\u001b[0m\u001b[0mY_name\u001b[0m\u001b[0;34m)\u001b[0m\u001b[0;34m\u001b[0m\u001b[0m\n\u001b[1;32m   1664\u001b[0m         \u001b[0mh\u001b[0m \u001b[0;34m=\u001b[0m \u001b[0mself\u001b[0m\u001b[0;34m.\u001b[0m\u001b[0mparam_shape\u001b[0m\u001b[0;34m(\u001b[0m\u001b[0mY_name\u001b[0m\u001b[0;34m)\u001b[0m\u001b[0;34m[\u001b[0m\u001b[0;34m-\u001b[0m\u001b[0;36m1\u001b[0m\u001b[0;34m]\u001b[0m\u001b[0;34m\u001b[0m\u001b[0m\n",
      "\u001b[0;32m~/mario/workbench/lib/net.py\u001b[0m in \u001b[0;36mextract_XY\u001b[0;34m(self, X, Y, DEBUG, w1)\u001b[0m\n\u001b[1;32m    622\u001b[0m             \u001b[0;32mif\u001b[0m \u001b[0;36m0\u001b[0m\u001b[0;34m:\u001b[0m \u001b[0mprint\u001b[0m\u001b[0;34m(\u001b[0m\u001b[0;34m\"done\"\u001b[0m\u001b[0;34m,\u001b[0m \u001b[0mbatch\u001b[0m\u001b[0;34m,\u001b[0m \u001b[0;34m'/'\u001b[0m\u001b[0;34m,\u001b[0m \u001b[0mnBatches\u001b[0m\u001b[0;34m)\u001b[0m\u001b[0;34m\u001b[0m\u001b[0m\n\u001b[1;32m    623\u001b[0m             \u001b[0;32mif\u001b[0m \u001b[0mself\u001b[0m\u001b[0;34m.\u001b[0m\u001b[0m_mem\u001b[0m\u001b[0;34m:\u001b[0m\u001b[0;34m\u001b[0m\u001b[0m\n\u001b[0;32m--> 624\u001b[0;31m                 \u001b[0mself\u001b[0m\u001b[0;34m.\u001b[0m\u001b[0mnet\u001b[0m\u001b[0;34m.\u001b[0m\u001b[0mset_input_arrays\u001b[0m\u001b[0;34m(\u001b[0m\u001b[0mself\u001b[0m\u001b[0;34m.\u001b[0m\u001b[0m_points_dict\u001b[0m\u001b[0;34m[\u001b[0m\u001b[0;34m(\u001b[0m\u001b[0mbatch\u001b[0m\u001b[0;34m,\u001b[0m \u001b[0;36m0\u001b[0m\u001b[0;34m)\u001b[0m\u001b[0;34m]\u001b[0m\u001b[0;34m,\u001b[0m \u001b[0mself\u001b[0m\u001b[0;34m.\u001b[0m\u001b[0m_points_dict\u001b[0m\u001b[0;34m[\u001b[0m\u001b[0;34m(\u001b[0m\u001b[0mbatch\u001b[0m\u001b[0;34m,\u001b[0m \u001b[0;36m1\u001b[0m\u001b[0;34m)\u001b[0m\u001b[0;34m]\u001b[0m\u001b[0;34m)\u001b[0m\u001b[0;34m\u001b[0m\u001b[0m\n\u001b[0m\u001b[1;32m    625\u001b[0m \u001b[0;34m\u001b[0m\u001b[0m\n\u001b[1;32m    626\u001b[0m             \u001b[0mself\u001b[0m\u001b[0;34m.\u001b[0m\u001b[0mforward\u001b[0m\u001b[0;34m(\u001b[0m\u001b[0;34m)\u001b[0m\u001b[0;34m\u001b[0m\u001b[0m\n",
      "\u001b[0;32m~/mario/channel-pruning/caffe/python/caffe/pycaffe.py\u001b[0m in \u001b[0;36m_Net_set_input_arrays\u001b[0;34m(self, data, labels)\u001b[0m\n\u001b[1;32m    267\u001b[0m         labels = np.ascontiguousarray(labels[:, np.newaxis, np.newaxis,\n\u001b[1;32m    268\u001b[0m                                              np.newaxis])\n\u001b[0;32m--> 269\u001b[0;31m     \u001b[0;32mreturn\u001b[0m \u001b[0mself\u001b[0m\u001b[0;34m.\u001b[0m\u001b[0m_set_input_arrays\u001b[0m\u001b[0;34m(\u001b[0m\u001b[0mdata\u001b[0m\u001b[0;34m,\u001b[0m \u001b[0mlabels\u001b[0m\u001b[0;34m)\u001b[0m\u001b[0;34m\u001b[0m\u001b[0m\n\u001b[0m\u001b[1;32m    270\u001b[0m \u001b[0;34m\u001b[0m\u001b[0m\n\u001b[1;32m    271\u001b[0m \u001b[0;34m\u001b[0m\u001b[0m\n",
      "\u001b[0;31mRuntimeError\u001b[0m: set_input_arrays may only be called if the first layer is a MemoryDataLayer"
     ]
    }
   ],
   "source": [
    "#conv = 'conv1_2'\n",
    "#convnext = 'conv2_1'\n",
    "\n",
    "run_once = True\n",
    "t = Timer()\n",
    "\n",
    "for conv, convnext in zip(convs[1:], convs[2:]+['pool5']):\n",
    "    conv_V = underline(conv, 'V')\n",
    "    conv_H = underline(conv, 'H')\n",
    "    conv_P = underline(conv, 'P')\n",
    "    W_shape = my_net.param_shape(conv)\n",
    "    print(\"W_shape:\", W_shape)\n",
    "    d_c = int(W_shape[0] / c_ratio)\n",
    "    print(\"d_c: \", d_c)\n",
    "    rank = rankdic[conv]\n",
    "    d_prime = rank\n",
    "    if d_c < rank: d_c = rank\n",
    "\n",
    "    '''spatial decomposition'''\n",
    "    if False:\n",
    "        t.tic()\n",
    "        weights = self.param_data(conv)\n",
    "        if conv in self.selection:\n",
    "            weights = weights[:,self.selection[conv],:,:]\n",
    "        if 1:\n",
    "            Y = self._feats_dict[conv] - self.param_b_data(conv)\n",
    "            X = getX(conv)\n",
    "            if conv in self.selection:\n",
    "                X = X[:,self.selection[conv],:,:]\n",
    "            V, H, VHr, b = VH_decompose(weights, rank=rank, DEBUG=DEBUG, X=X, Y=Y)\n",
    "            self.set_param_b(conv,b)\n",
    "        else:\n",
    "            V, H, VHr = VH_decompose(weights, rank=rank, DEBUG=DEBUG)\n",
    "\n",
    "\n",
    "        self.WPQ[conv_V] = V\n",
    "\n",
    "        # set W to low rank W, asymetric solver\n",
    "        setConv(conv,VHr)\n",
    "\n",
    "        self.WPQ[(conv_H, 0)] = H\n",
    "        self.WPQ[(conv_H, 1)] = self.param_b_data(conv)\n",
    "        if 0:#DEBUG:\n",
    "            print(\"W\", W_shape)\n",
    "            print(\"V\", V.shape)\n",
    "            print(\"H\", H.shape)\n",
    "\n",
    "        t.toc('spatial_decomposition')\n",
    "\n",
    "    #self.insert(conv, conv_H)\n",
    "\n",
    "    '''channel decomposition'''\n",
    "    if False:# and conv != 'conv3_3':\n",
    "        t.tic()\n",
    "        feats_dict, _ = self.extract_features(names=conv, points_dict=self._points_dict, save=1)\n",
    "        Y = feats_dict[conv]\n",
    "        W1, W2, B, W12 = ITQ_decompose(Y, self._feats_dict[conv], H, d_prime, bias=self.param_b_data(conv), DEBUG=0, Wr=VHr)\n",
    "\n",
    "        # set W to low rank W, asymetric solver\n",
    "        setConv(conv,W12.copy())\n",
    "        self.set_param_b(conv, B.copy())\n",
    "\n",
    "        # save W_prime and P params\n",
    "        W_prime_shape = [d_prime, H.shape[1], H.shape[2], H.shape[3]]\n",
    "        P_shape = [W2.shape[0], W2.shape[1], 1, 1]\n",
    "        self.WPQ[(conv_H, 0)] = W1.reshape(W_prime_shape)\n",
    "        self.WPQ[(conv_H, 1)] = np.zeros(d_prime)\n",
    "        self.WPQ[(conv_P, 0)] = W2.reshape(P_shape)\n",
    "        self.WPQ[(conv_P, 1)] = B\n",
    "\n",
    "        self.insert(conv_H, conv_P, pad=0, kernel_size=1, bias=True, stride=1)\n",
    "\n",
    "        t.toc('channel_decomposition')\n",
    "\n",
    "        '''channel pruning'''\n",
    "    if dcfgs.dic.vh and (conv in alldic or conv in pooldic) and (convnext in my_net.convs):\n",
    "        t.tic()\n",
    "        #if conv.startswith('conv4'):\n",
    "        #    c_ratio = 1.5\n",
    "\n",
    "        if conv in pooldic:\n",
    "            X_name = my_net.bottom_names[convnext][0]\n",
    "        else:\n",
    "            X_name = conv\n",
    "\n",
    "        idxs, W2, B2 = my_net.dictionary_kernel(X_name, None, d_c, convnext, None)\n",
    "        \"\"\"\n",
    "        # W2\n",
    "        self.selection[convnext] = idxs\n",
    "        self.param_data(convnext)[:, ~idxs, ...] = 0\n",
    "        self.param_data(convnext)[:, idxs, ...] = W2.copy()\n",
    "        self.set_param_b(convnext,B2)\n",
    "        # W1\n",
    "        if (conv_P,0) in self.WPQ:\n",
    "            key =  conv_P\n",
    "        else:\n",
    "            key = conv_H\n",
    "        self.WPQ[(key,0)] = self.WPQ[(key,0)][idxs]\n",
    "        self.WPQ[(key,1)] = self.WPQ[(key,1)][idxs]\n",
    "        self.set_conv(key, num_output=sum(idxs))\n",
    "        \"\"\"\n",
    "        t.toc('channel_pruning')\n",
    "        if run_one:\n",
    "            break"
   ]
  },
  {
   "cell_type": "code",
   "execution_count": null,
   "metadata": {},
   "outputs": [],
   "source": [
    "# setup H\n",
    "H_params = {'bias':True}\n",
    "H_params.update(self.infer_pad_kernel(self.WPQ[(conv_H, 0)], conv))\n",
    "self.set_conv(conv_H, **H_params)\n",
    "# setup V\n",
    "V_params = self.infer_pad_kernel(self.WPQ[conv_V], conv)\n",
    "self.set_conv(conv, new_name=conv_V, **V_params)\n",
    "if 0:#DEBUG: \n",
    "    print(\"V\", H_params)\n",
    "    print(\"H\", V_params)  "
   ]
  },
  {
   "cell_type": "code",
   "execution_count": null,
   "metadata": {},
   "outputs": [],
   "source": [
    "new_pt = self.save_pt(prefix=prefix)"
   ]
  }
 ],
 "metadata": {
  "kernelspec": {
   "display_name": "Python 3",
   "language": "python",
   "name": "python3"
  },
  "language_info": {
   "codemirror_mode": {
    "name": "ipython",
    "version": 3
   },
   "file_extension": ".py",
   "mimetype": "text/x-python",
   "name": "python",
   "nbconvert_exporter": "python",
   "pygments_lexer": "ipython3",
   "version": "3.5.2"
  }
 },
 "nbformat": 4,
 "nbformat_minor": 2
}
